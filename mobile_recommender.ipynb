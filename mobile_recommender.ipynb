{
  "nbformat": 4,
  "nbformat_minor": 0,
  "metadata": {
    "colab": {
      "provenance": [],
      "toc_visible": true
    },
    "kernelspec": {
      "name": "python3",
      "display_name": "Python 3"
    },
    "language_info": {
      "name": "python"
    }
  },
  "cells": [
    {
      "cell_type": "markdown",
      "source": [
        "# Recommeder system using TF-IDF"
      ],
      "metadata": {
        "id": "tp97U_Dk8c8b"
      }
    },
    {
      "cell_type": "markdown",
      "source": [
        "## Necessary imports"
      ],
      "metadata": {
        "id": "PMZKqAxSDmdx"
      }
    },
    {
      "cell_type": "code",
      "source": [
        "%matplotlib inline\n",
        "import matplotlib.pyplot as plt\n",
        "import seaborn as sns\n",
        "import pandas as pd\n",
        "import numpy as np\n",
        "\n",
        "import ast \n",
        "from scipy import stats\n",
        "from ast import literal_eval\n",
        "from sklearn.feature_extraction.text import TfidfVectorizer, CountVectorizer\n",
        "from sklearn.metrics.pairwise import linear_kernel, cosine_similarity\n",
        "\n",
        "import warnings; warnings.simplefilter('ignore')"
      ],
      "metadata": {
        "id": "4Tj_a4UUcjLa"
      },
      "execution_count": null,
      "outputs": []
    },
    {
      "cell_type": "markdown",
      "source": [
        "## Exploratory data analysis\n"
      ],
      "metadata": {
        "id": "XcK7yDPOENeQ"
      }
    },
    {
      "cell_type": "markdown",
      "source": [
        "### Loading dataset"
      ],
      "metadata": {
        "id": "8CUU4HErD_2g"
      }
    },
    {
      "cell_type": "code",
      "execution_count": null,
      "metadata": {
        "id": "0WyY8uB8cIci"
      },
      "outputs": [],
      "source": [
        "path = '/content/rankings.csv'"
      ]
    },
    {
      "cell_type": "code",
      "source": [
        "rankings = pd.read_csv(path, encoding='utf-8')"
      ],
      "metadata": {
        "id": "jNJ2P1pud__L"
      },
      "execution_count": null,
      "outputs": []
    },
    {
      "cell_type": "code",
      "source": [
        "rankings.head()"
      ],
      "metadata": {
        "colab": {
          "base_uri": "https://localhost:8080/",
          "height": 206
        },
        "id": "uI1AOCiJcwAT",
        "outputId": "491f8b78-9217-4abc-a034-04b7e5573ca9"
      },
      "execution_count": null,
      "outputs": [
        {
          "output_type": "execute_result",
          "data": {
            "text/plain": [
              "                OS  Budget           Size Camera Importance  \\\n",
              "0  Must be Android  400.00          Large          A little   \n",
              "1  Must be Android  400.00          Large             A ton   \n",
              "2  Must be Android  400.00         Medium          Not sure   \n",
              "3  Must be Android  400.00  No preference          Somewhat   \n",
              "4  Must be Android  400.00  No preference             A ton   \n",
              "\n",
              "  Usage Hours (Battery) Speed Importance                 top  \\\n",
              "0              A little            A lot  Motorola Moto G100   \n",
              "1              A little     I need speed      Google Pixel 6   \n",
              "2              Not sure     I need speed          OnePlus 8T   \n",
              "3              A little         A little     Google Pixel 5a   \n",
              "4                 A lot            A lot  Motorola Moto G100   \n",
              "\n",
              "                 second                  third confidence difficulty  \n",
              "0  Motorola Edge (2021)     Samsung Galaxy A42         OK     Medium  \n",
              "1             OnePlus 9  Samsung Galaxy S20 FE         OK       Hard  \n",
              "2    Motorola Moto G100              OnePlus 9         OK     Medium  \n",
              "3    Samsung Galaxy A53     Samsung Galaxy A42       Good     Medium  \n",
              "4    Samsung Galaxy A42     Samsung Galaxy A53       Good     Medium  "
            ],
            "text/html": [
              "\n",
              "  <div id=\"df-94887c15-3a8e-439f-b5de-855dc8d80d2f\">\n",
              "    <div class=\"colab-df-container\">\n",
              "      <div>\n",
              "<style scoped>\n",
              "    .dataframe tbody tr th:only-of-type {\n",
              "        vertical-align: middle;\n",
              "    }\n",
              "\n",
              "    .dataframe tbody tr th {\n",
              "        vertical-align: top;\n",
              "    }\n",
              "\n",
              "    .dataframe thead th {\n",
              "        text-align: right;\n",
              "    }\n",
              "</style>\n",
              "<table border=\"1\" class=\"dataframe\">\n",
              "  <thead>\n",
              "    <tr style=\"text-align: right;\">\n",
              "      <th></th>\n",
              "      <th>OS</th>\n",
              "      <th>Budget</th>\n",
              "      <th>Size</th>\n",
              "      <th>Camera Importance</th>\n",
              "      <th>Usage Hours (Battery)</th>\n",
              "      <th>Speed Importance</th>\n",
              "      <th>top</th>\n",
              "      <th>second</th>\n",
              "      <th>third</th>\n",
              "      <th>confidence</th>\n",
              "      <th>difficulty</th>\n",
              "    </tr>\n",
              "  </thead>\n",
              "  <tbody>\n",
              "    <tr>\n",
              "      <th>0</th>\n",
              "      <td>Must be Android</td>\n",
              "      <td>400.00</td>\n",
              "      <td>Large</td>\n",
              "      <td>A little</td>\n",
              "      <td>A little</td>\n",
              "      <td>A lot</td>\n",
              "      <td>Motorola Moto G100</td>\n",
              "      <td>Motorola Edge (2021)</td>\n",
              "      <td>Samsung Galaxy A42</td>\n",
              "      <td>OK</td>\n",
              "      <td>Medium</td>\n",
              "    </tr>\n",
              "    <tr>\n",
              "      <th>1</th>\n",
              "      <td>Must be Android</td>\n",
              "      <td>400.00</td>\n",
              "      <td>Large</td>\n",
              "      <td>A ton</td>\n",
              "      <td>A little</td>\n",
              "      <td>I need speed</td>\n",
              "      <td>Google Pixel 6</td>\n",
              "      <td>OnePlus 9</td>\n",
              "      <td>Samsung Galaxy S20 FE</td>\n",
              "      <td>OK</td>\n",
              "      <td>Hard</td>\n",
              "    </tr>\n",
              "    <tr>\n",
              "      <th>2</th>\n",
              "      <td>Must be Android</td>\n",
              "      <td>400.00</td>\n",
              "      <td>Medium</td>\n",
              "      <td>Not sure</td>\n",
              "      <td>Not sure</td>\n",
              "      <td>I need speed</td>\n",
              "      <td>OnePlus 8T</td>\n",
              "      <td>Motorola Moto G100</td>\n",
              "      <td>OnePlus 9</td>\n",
              "      <td>OK</td>\n",
              "      <td>Medium</td>\n",
              "    </tr>\n",
              "    <tr>\n",
              "      <th>3</th>\n",
              "      <td>Must be Android</td>\n",
              "      <td>400.00</td>\n",
              "      <td>No preference</td>\n",
              "      <td>Somewhat</td>\n",
              "      <td>A little</td>\n",
              "      <td>A little</td>\n",
              "      <td>Google Pixel 5a</td>\n",
              "      <td>Samsung Galaxy A53</td>\n",
              "      <td>Samsung Galaxy A42</td>\n",
              "      <td>Good</td>\n",
              "      <td>Medium</td>\n",
              "    </tr>\n",
              "    <tr>\n",
              "      <th>4</th>\n",
              "      <td>Must be Android</td>\n",
              "      <td>400.00</td>\n",
              "      <td>No preference</td>\n",
              "      <td>A ton</td>\n",
              "      <td>A lot</td>\n",
              "      <td>A lot</td>\n",
              "      <td>Motorola Moto G100</td>\n",
              "      <td>Samsung Galaxy A42</td>\n",
              "      <td>Samsung Galaxy A53</td>\n",
              "      <td>Good</td>\n",
              "      <td>Medium</td>\n",
              "    </tr>\n",
              "  </tbody>\n",
              "</table>\n",
              "</div>\n",
              "      <button class=\"colab-df-convert\" onclick=\"convertToInteractive('df-94887c15-3a8e-439f-b5de-855dc8d80d2f')\"\n",
              "              title=\"Convert this dataframe to an interactive table.\"\n",
              "              style=\"display:none;\">\n",
              "        \n",
              "  <svg xmlns=\"http://www.w3.org/2000/svg\" height=\"24px\"viewBox=\"0 0 24 24\"\n",
              "       width=\"24px\">\n",
              "    <path d=\"M0 0h24v24H0V0z\" fill=\"none\"/>\n",
              "    <path d=\"M18.56 5.44l.94 2.06.94-2.06 2.06-.94-2.06-.94-.94-2.06-.94 2.06-2.06.94zm-11 1L8.5 8.5l.94-2.06 2.06-.94-2.06-.94L8.5 2.5l-.94 2.06-2.06.94zm10 10l.94 2.06.94-2.06 2.06-.94-2.06-.94-.94-2.06-.94 2.06-2.06.94z\"/><path d=\"M17.41 7.96l-1.37-1.37c-.4-.4-.92-.59-1.43-.59-.52 0-1.04.2-1.43.59L10.3 9.45l-7.72 7.72c-.78.78-.78 2.05 0 2.83L4 21.41c.39.39.9.59 1.41.59.51 0 1.02-.2 1.41-.59l7.78-7.78 2.81-2.81c.8-.78.8-2.07 0-2.86zM5.41 20L4 18.59l7.72-7.72 1.47 1.35L5.41 20z\"/>\n",
              "  </svg>\n",
              "      </button>\n",
              "      \n",
              "  <style>\n",
              "    .colab-df-container {\n",
              "      display:flex;\n",
              "      flex-wrap:wrap;\n",
              "      gap: 12px;\n",
              "    }\n",
              "\n",
              "    .colab-df-convert {\n",
              "      background-color: #E8F0FE;\n",
              "      border: none;\n",
              "      border-radius: 50%;\n",
              "      cursor: pointer;\n",
              "      display: none;\n",
              "      fill: #1967D2;\n",
              "      height: 32px;\n",
              "      padding: 0 0 0 0;\n",
              "      width: 32px;\n",
              "    }\n",
              "\n",
              "    .colab-df-convert:hover {\n",
              "      background-color: #E2EBFA;\n",
              "      box-shadow: 0px 1px 2px rgba(60, 64, 67, 0.3), 0px 1px 3px 1px rgba(60, 64, 67, 0.15);\n",
              "      fill: #174EA6;\n",
              "    }\n",
              "\n",
              "    [theme=dark] .colab-df-convert {\n",
              "      background-color: #3B4455;\n",
              "      fill: #D2E3FC;\n",
              "    }\n",
              "\n",
              "    [theme=dark] .colab-df-convert:hover {\n",
              "      background-color: #434B5C;\n",
              "      box-shadow: 0px 1px 3px 1px rgba(0, 0, 0, 0.15);\n",
              "      filter: drop-shadow(0px 1px 2px rgba(0, 0, 0, 0.3));\n",
              "      fill: #FFFFFF;\n",
              "    }\n",
              "  </style>\n",
              "\n",
              "      <script>\n",
              "        const buttonEl =\n",
              "          document.querySelector('#df-94887c15-3a8e-439f-b5de-855dc8d80d2f button.colab-df-convert');\n",
              "        buttonEl.style.display =\n",
              "          google.colab.kernel.accessAllowed ? 'block' : 'none';\n",
              "\n",
              "        async function convertToInteractive(key) {\n",
              "          const element = document.querySelector('#df-94887c15-3a8e-439f-b5de-855dc8d80d2f');\n",
              "          const dataTable =\n",
              "            await google.colab.kernel.invokeFunction('convertToInteractive',\n",
              "                                                     [key], {});\n",
              "          if (!dataTable) return;\n",
              "\n",
              "          const docLinkHtml = 'Like what you see? Visit the ' +\n",
              "            '<a target=\"_blank\" href=https://colab.research.google.com/notebooks/data_table.ipynb>data table notebook</a>'\n",
              "            + ' to learn more about interactive tables.';\n",
              "          element.innerHTML = '';\n",
              "          dataTable['output_type'] = 'display_data';\n",
              "          await google.colab.output.renderOutput(dataTable, element);\n",
              "          const docLink = document.createElement('div');\n",
              "          docLink.innerHTML = docLinkHtml;\n",
              "          element.appendChild(docLink);\n",
              "        }\n",
              "      </script>\n",
              "    </div>\n",
              "  </div>\n",
              "  "
            ]
          },
          "metadata": {},
          "execution_count": 169
        }
      ]
    },
    {
      "cell_type": "code",
      "source": [
        "rankings.info()"
      ],
      "metadata": {
        "colab": {
          "base_uri": "https://localhost:8080/"
        },
        "id": "7bSngW_nc_Ex",
        "outputId": "579eb392-1124-49da-9429-2a8d8d9afa6d"
      },
      "execution_count": null,
      "outputs": [
        {
          "output_type": "stream",
          "name": "stdout",
          "text": [
            "<class 'pandas.core.frame.DataFrame'>\n",
            "RangeIndex: 177 entries, 0 to 176\n",
            "Data columns (total 11 columns):\n",
            " #   Column                 Non-Null Count  Dtype \n",
            "---  ------                 --------------  ----- \n",
            " 0   OS                     177 non-null    object\n",
            " 1   Budget                 177 non-null    object\n",
            " 2   Size                   177 non-null    object\n",
            " 3   Camera Importance      177 non-null    object\n",
            " 4   Usage Hours (Battery)  177 non-null    object\n",
            " 5   Speed Importance       177 non-null    object\n",
            " 6   top                    177 non-null    object\n",
            " 7   second                 177 non-null    object\n",
            " 8   third                  177 non-null    object\n",
            " 9   confidence             177 non-null    object\n",
            " 10  difficulty             177 non-null    object\n",
            "dtypes: object(11)\n",
            "memory usage: 15.3+ KB\n"
          ]
        }
      ]
    },
    {
      "cell_type": "markdown",
      "source": [
        "### Droping last two columns"
      ],
      "metadata": {
        "id": "oIEYSuyaEWRL"
      }
    },
    {
      "cell_type": "code",
      "source": [
        "rankings = rankings.drop(['confidence', 'difficulty'], axis=1)"
      ],
      "metadata": {
        "id": "gVHfLF-Vl98o"
      },
      "execution_count": null,
      "outputs": []
    },
    {
      "cell_type": "code",
      "source": [
        "rankings.head()"
      ],
      "metadata": {
        "colab": {
          "base_uri": "https://localhost:8080/",
          "height": 206
        },
        "id": "7tdgR9UFEeDJ",
        "outputId": "64b7d915-2595-4c82-f90f-d712c206e11d"
      },
      "execution_count": null,
      "outputs": [
        {
          "output_type": "execute_result",
          "data": {
            "text/plain": [
              "                OS  Budget           Size Camera Importance  \\\n",
              "0  Must be Android  400.00          Large          A little   \n",
              "1  Must be Android  400.00          Large             A ton   \n",
              "2  Must be Android  400.00         Medium          Not sure   \n",
              "3  Must be Android  400.00  No preference          Somewhat   \n",
              "4  Must be Android  400.00  No preference             A ton   \n",
              "\n",
              "  Usage Hours (Battery) Speed Importance                 top  \\\n",
              "0              A little            A lot  Motorola Moto G100   \n",
              "1              A little     I need speed      Google Pixel 6   \n",
              "2              Not sure     I need speed          OnePlus 8T   \n",
              "3              A little         A little     Google Pixel 5a   \n",
              "4                 A lot            A lot  Motorola Moto G100   \n",
              "\n",
              "                 second                  third  \n",
              "0  Motorola Edge (2021)     Samsung Galaxy A42  \n",
              "1             OnePlus 9  Samsung Galaxy S20 FE  \n",
              "2    Motorola Moto G100              OnePlus 9  \n",
              "3    Samsung Galaxy A53     Samsung Galaxy A42  \n",
              "4    Samsung Galaxy A42     Samsung Galaxy A53  "
            ],
            "text/html": [
              "\n",
              "  <div id=\"df-c9e46432-3353-42b6-b3bd-0064f1e30247\">\n",
              "    <div class=\"colab-df-container\">\n",
              "      <div>\n",
              "<style scoped>\n",
              "    .dataframe tbody tr th:only-of-type {\n",
              "        vertical-align: middle;\n",
              "    }\n",
              "\n",
              "    .dataframe tbody tr th {\n",
              "        vertical-align: top;\n",
              "    }\n",
              "\n",
              "    .dataframe thead th {\n",
              "        text-align: right;\n",
              "    }\n",
              "</style>\n",
              "<table border=\"1\" class=\"dataframe\">\n",
              "  <thead>\n",
              "    <tr style=\"text-align: right;\">\n",
              "      <th></th>\n",
              "      <th>OS</th>\n",
              "      <th>Budget</th>\n",
              "      <th>Size</th>\n",
              "      <th>Camera Importance</th>\n",
              "      <th>Usage Hours (Battery)</th>\n",
              "      <th>Speed Importance</th>\n",
              "      <th>top</th>\n",
              "      <th>second</th>\n",
              "      <th>third</th>\n",
              "    </tr>\n",
              "  </thead>\n",
              "  <tbody>\n",
              "    <tr>\n",
              "      <th>0</th>\n",
              "      <td>Must be Android</td>\n",
              "      <td>400.00</td>\n",
              "      <td>Large</td>\n",
              "      <td>A little</td>\n",
              "      <td>A little</td>\n",
              "      <td>A lot</td>\n",
              "      <td>Motorola Moto G100</td>\n",
              "      <td>Motorola Edge (2021)</td>\n",
              "      <td>Samsung Galaxy A42</td>\n",
              "    </tr>\n",
              "    <tr>\n",
              "      <th>1</th>\n",
              "      <td>Must be Android</td>\n",
              "      <td>400.00</td>\n",
              "      <td>Large</td>\n",
              "      <td>A ton</td>\n",
              "      <td>A little</td>\n",
              "      <td>I need speed</td>\n",
              "      <td>Google Pixel 6</td>\n",
              "      <td>OnePlus 9</td>\n",
              "      <td>Samsung Galaxy S20 FE</td>\n",
              "    </tr>\n",
              "    <tr>\n",
              "      <th>2</th>\n",
              "      <td>Must be Android</td>\n",
              "      <td>400.00</td>\n",
              "      <td>Medium</td>\n",
              "      <td>Not sure</td>\n",
              "      <td>Not sure</td>\n",
              "      <td>I need speed</td>\n",
              "      <td>OnePlus 8T</td>\n",
              "      <td>Motorola Moto G100</td>\n",
              "      <td>OnePlus 9</td>\n",
              "    </tr>\n",
              "    <tr>\n",
              "      <th>3</th>\n",
              "      <td>Must be Android</td>\n",
              "      <td>400.00</td>\n",
              "      <td>No preference</td>\n",
              "      <td>Somewhat</td>\n",
              "      <td>A little</td>\n",
              "      <td>A little</td>\n",
              "      <td>Google Pixel 5a</td>\n",
              "      <td>Samsung Galaxy A53</td>\n",
              "      <td>Samsung Galaxy A42</td>\n",
              "    </tr>\n",
              "    <tr>\n",
              "      <th>4</th>\n",
              "      <td>Must be Android</td>\n",
              "      <td>400.00</td>\n",
              "      <td>No preference</td>\n",
              "      <td>A ton</td>\n",
              "      <td>A lot</td>\n",
              "      <td>A lot</td>\n",
              "      <td>Motorola Moto G100</td>\n",
              "      <td>Samsung Galaxy A42</td>\n",
              "      <td>Samsung Galaxy A53</td>\n",
              "    </tr>\n",
              "  </tbody>\n",
              "</table>\n",
              "</div>\n",
              "      <button class=\"colab-df-convert\" onclick=\"convertToInteractive('df-c9e46432-3353-42b6-b3bd-0064f1e30247')\"\n",
              "              title=\"Convert this dataframe to an interactive table.\"\n",
              "              style=\"display:none;\">\n",
              "        \n",
              "  <svg xmlns=\"http://www.w3.org/2000/svg\" height=\"24px\"viewBox=\"0 0 24 24\"\n",
              "       width=\"24px\">\n",
              "    <path d=\"M0 0h24v24H0V0z\" fill=\"none\"/>\n",
              "    <path d=\"M18.56 5.44l.94 2.06.94-2.06 2.06-.94-2.06-.94-.94-2.06-.94 2.06-2.06.94zm-11 1L8.5 8.5l.94-2.06 2.06-.94-2.06-.94L8.5 2.5l-.94 2.06-2.06.94zm10 10l.94 2.06.94-2.06 2.06-.94-2.06-.94-.94-2.06-.94 2.06-2.06.94z\"/><path d=\"M17.41 7.96l-1.37-1.37c-.4-.4-.92-.59-1.43-.59-.52 0-1.04.2-1.43.59L10.3 9.45l-7.72 7.72c-.78.78-.78 2.05 0 2.83L4 21.41c.39.39.9.59 1.41.59.51 0 1.02-.2 1.41-.59l7.78-7.78 2.81-2.81c.8-.78.8-2.07 0-2.86zM5.41 20L4 18.59l7.72-7.72 1.47 1.35L5.41 20z\"/>\n",
              "  </svg>\n",
              "      </button>\n",
              "      \n",
              "  <style>\n",
              "    .colab-df-container {\n",
              "      display:flex;\n",
              "      flex-wrap:wrap;\n",
              "      gap: 12px;\n",
              "    }\n",
              "\n",
              "    .colab-df-convert {\n",
              "      background-color: #E8F0FE;\n",
              "      border: none;\n",
              "      border-radius: 50%;\n",
              "      cursor: pointer;\n",
              "      display: none;\n",
              "      fill: #1967D2;\n",
              "      height: 32px;\n",
              "      padding: 0 0 0 0;\n",
              "      width: 32px;\n",
              "    }\n",
              "\n",
              "    .colab-df-convert:hover {\n",
              "      background-color: #E2EBFA;\n",
              "      box-shadow: 0px 1px 2px rgba(60, 64, 67, 0.3), 0px 1px 3px 1px rgba(60, 64, 67, 0.15);\n",
              "      fill: #174EA6;\n",
              "    }\n",
              "\n",
              "    [theme=dark] .colab-df-convert {\n",
              "      background-color: #3B4455;\n",
              "      fill: #D2E3FC;\n",
              "    }\n",
              "\n",
              "    [theme=dark] .colab-df-convert:hover {\n",
              "      background-color: #434B5C;\n",
              "      box-shadow: 0px 1px 3px 1px rgba(0, 0, 0, 0.15);\n",
              "      filter: drop-shadow(0px 1px 2px rgba(0, 0, 0, 0.3));\n",
              "      fill: #FFFFFF;\n",
              "    }\n",
              "  </style>\n",
              "\n",
              "      <script>\n",
              "        const buttonEl =\n",
              "          document.querySelector('#df-c9e46432-3353-42b6-b3bd-0064f1e30247 button.colab-df-convert');\n",
              "        buttonEl.style.display =\n",
              "          google.colab.kernel.accessAllowed ? 'block' : 'none';\n",
              "\n",
              "        async function convertToInteractive(key) {\n",
              "          const element = document.querySelector('#df-c9e46432-3353-42b6-b3bd-0064f1e30247');\n",
              "          const dataTable =\n",
              "            await google.colab.kernel.invokeFunction('convertToInteractive',\n",
              "                                                     [key], {});\n",
              "          if (!dataTable) return;\n",
              "\n",
              "          const docLinkHtml = 'Like what you see? Visit the ' +\n",
              "            '<a target=\"_blank\" href=https://colab.research.google.com/notebooks/data_table.ipynb>data table notebook</a>'\n",
              "            + ' to learn more about interactive tables.';\n",
              "          element.innerHTML = '';\n",
              "          dataTable['output_type'] = 'display_data';\n",
              "          await google.colab.output.renderOutput(dataTable, element);\n",
              "          const docLink = document.createElement('div');\n",
              "          docLink.innerHTML = docLinkHtml;\n",
              "          element.appendChild(docLink);\n",
              "        }\n",
              "      </script>\n",
              "    </div>\n",
              "  </div>\n",
              "  "
            ]
          },
          "metadata": {},
          "execution_count": 172
        }
      ]
    },
    {
      "cell_type": "markdown",
      "source": [
        "### Checking dataset grouping by columns"
      ],
      "metadata": {
        "id": "7tal8rmVEkBV"
      }
    },
    {
      "cell_type": "markdown",
      "source": [
        "#### Budget"
      ],
      "metadata": {
        "id": "_BIE3vb4VW1r"
      }
    },
    {
      "cell_type": "code",
      "source": [
        "for key in rankings.groupby(['Budget']).groups:\n",
        "  print(\"Total {} in {} group\".format(len(rankings.groupby(['Budget']).groups[key]), key))"
      ],
      "metadata": {
        "colab": {
          "base_uri": "https://localhost:8080/"
        },
        "id": "KQSKmS9hjDR2",
        "outputId": "5f95ab6b-db91-481a-e83b-0a4c70f20e2f"
      },
      "execution_count": null,
      "outputs": [
        {
          "output_type": "stream",
          "name": "stdout",
          "text": [
            "Total 38 in 400.00 group\n",
            "Total 24 in 600.00 group\n",
            "Total 41 in 800.00 group\n",
            "Total 74 in Not sure group\n"
          ]
        }
      ]
    },
    {
      "cell_type": "markdown",
      "source": [
        "#### Size"
      ],
      "metadata": {
        "id": "CQXh1HdAVWQL"
      }
    },
    {
      "cell_type": "code",
      "source": [
        "for key in rankings.groupby(['Size']).groups:\n",
        "  print(\"Total {} in {} group\".format(len(rankings.groupby(['Size']).groups[key]), key))"
      ],
      "metadata": {
        "colab": {
          "base_uri": "https://localhost:8080/"
        },
        "id": "MoUa4Umzh2oR",
        "outputId": "2a9909eb-b39b-4a1a-b5f9-5455f4bb1cab"
      },
      "execution_count": null,
      "outputs": [
        {
          "output_type": "stream",
          "name": "stdout",
          "text": [
            "Total 30 in Large group\n",
            "Total 29 in Medium group\n",
            "Total 66 in No preference group\n",
            "Total 52 in Small group\n"
          ]
        }
      ]
    },
    {
      "cell_type": "markdown",
      "source": [
        "#### Camera Importance"
      ],
      "metadata": {
        "id": "dYCd0z5yVW65"
      }
    },
    {
      "cell_type": "code",
      "source": [
        "for key in rankings.groupby(['Camera Importance']).groups:\n",
        "  print(\"Total {} in {} group\".format(len(rankings.groupby(['Camera Importance']).groups[key]), key))"
      ],
      "metadata": {
        "colab": {
          "base_uri": "https://localhost:8080/"
        },
        "id": "tvwiXEMJjWzq",
        "outputId": "63ea900f-3823-41af-9d06-559efb8a8895"
      },
      "execution_count": null,
      "outputs": [
        {
          "output_type": "stream",
          "name": "stdout",
          "text": [
            "Total 38 in A little group\n",
            "Total 38 in A lot group\n",
            "Total 38 in A ton group\n",
            "Total 29 in Not sure group\n",
            "Total 34 in Somewhat group\n"
          ]
        }
      ]
    },
    {
      "cell_type": "markdown",
      "source": [
        "#### Usage Hours (Battery)"
      ],
      "metadata": {
        "id": "PseKdo6gVTKq"
      }
    },
    {
      "cell_type": "code",
      "source": [
        "for key in rankings.groupby(['Usage Hours (Battery)']).groups:\n",
        "  print(\"Total {} in {} group\".format(len(rankings.groupby(['Usage Hours (Battery)']).groups[key]), key))"
      ],
      "metadata": {
        "colab": {
          "base_uri": "https://localhost:8080/"
        },
        "outputId": "a66cc798-caf5-4664-bb1d-734967fa758c",
        "id": "Pat3otzyj_Ky"
      },
      "execution_count": null,
      "outputs": [
        {
          "output_type": "stream",
          "name": "stdout",
          "text": [
            "Total 36 in A little group\n",
            "Total 32 in A lot group\n",
            "Total 30 in A ton group\n",
            "Total 79 in Not sure group\n"
          ]
        }
      ]
    },
    {
      "cell_type": "markdown",
      "source": [
        "#### Speed Importance"
      ],
      "metadata": {
        "id": "1dAjL9ShVi-o"
      }
    },
    {
      "cell_type": "code",
      "source": [
        "for key in rankings.groupby(['Speed Importance']).groups:\n",
        "  print(\"Total {} in {} group\".format(len(rankings.groupby(['Speed Importance']).groups[key]), key))"
      ],
      "metadata": {
        "colab": {
          "base_uri": "https://localhost:8080/"
        },
        "id": "y41EHa3VkjfG",
        "outputId": "e03e36f5-364d-4a99-83e7-3805ca10dfc3"
      },
      "execution_count": null,
      "outputs": [
        {
          "output_type": "stream",
          "name": "stdout",
          "text": [
            "Total 68 in A little group\n",
            "Total 33 in A lot group\n",
            "Total 37 in I need speed group\n",
            "Total 39 in Not sure group\n"
          ]
        }
      ]
    },
    {
      "cell_type": "markdown",
      "source": [
        "## Building the Recommendation System"
      ],
      "metadata": {
        "id": "89NGI4bkE1kR"
      }
    },
    {
      "cell_type": "markdown",
      "source": [
        "### Creating a new dataframe "
      ],
      "metadata": {
        "id": "aLaB5cuoFHkp"
      }
    },
    {
      "cell_type": "code",
      "source": [
        "df = rankings.iloc[0:, 0:]"
      ],
      "metadata": {
        "id": "RKU7_FACt4U6"
      },
      "execution_count": null,
      "outputs": []
    },
    {
      "cell_type": "code",
      "source": [
        "df.head()"
      ],
      "metadata": {
        "colab": {
          "base_uri": "https://localhost:8080/",
          "height": 206
        },
        "id": "WADW6gdhugwU",
        "outputId": "76511bb0-6d6b-47a1-bcab-184810b11a47"
      },
      "execution_count": null,
      "outputs": [
        {
          "output_type": "execute_result",
          "data": {
            "text/plain": [
              "                OS  Budget           Size Camera Importance  \\\n",
              "0  Must be Android  400.00          Large          A little   \n",
              "1  Must be Android  400.00          Large             A ton   \n",
              "2  Must be Android  400.00         Medium          Not sure   \n",
              "3  Must be Android  400.00  No preference          Somewhat   \n",
              "4  Must be Android  400.00  No preference             A ton   \n",
              "\n",
              "  Usage Hours (Battery) Speed Importance                 top  \\\n",
              "0              A little            A lot  Motorola Moto G100   \n",
              "1              A little     I need speed      Google Pixel 6   \n",
              "2              Not sure     I need speed          OnePlus 8T   \n",
              "3              A little         A little     Google Pixel 5a   \n",
              "4                 A lot            A lot  Motorola Moto G100   \n",
              "\n",
              "                 second                  third  \n",
              "0  Motorola Edge (2021)     Samsung Galaxy A42  \n",
              "1             OnePlus 9  Samsung Galaxy S20 FE  \n",
              "2    Motorola Moto G100              OnePlus 9  \n",
              "3    Samsung Galaxy A53     Samsung Galaxy A42  \n",
              "4    Samsung Galaxy A42     Samsung Galaxy A53  "
            ],
            "text/html": [
              "\n",
              "  <div id=\"df-3ea40a75-b52e-46cf-81e2-5221834b170f\">\n",
              "    <div class=\"colab-df-container\">\n",
              "      <div>\n",
              "<style scoped>\n",
              "    .dataframe tbody tr th:only-of-type {\n",
              "        vertical-align: middle;\n",
              "    }\n",
              "\n",
              "    .dataframe tbody tr th {\n",
              "        vertical-align: top;\n",
              "    }\n",
              "\n",
              "    .dataframe thead th {\n",
              "        text-align: right;\n",
              "    }\n",
              "</style>\n",
              "<table border=\"1\" class=\"dataframe\">\n",
              "  <thead>\n",
              "    <tr style=\"text-align: right;\">\n",
              "      <th></th>\n",
              "      <th>OS</th>\n",
              "      <th>Budget</th>\n",
              "      <th>Size</th>\n",
              "      <th>Camera Importance</th>\n",
              "      <th>Usage Hours (Battery)</th>\n",
              "      <th>Speed Importance</th>\n",
              "      <th>top</th>\n",
              "      <th>second</th>\n",
              "      <th>third</th>\n",
              "    </tr>\n",
              "  </thead>\n",
              "  <tbody>\n",
              "    <tr>\n",
              "      <th>0</th>\n",
              "      <td>Must be Android</td>\n",
              "      <td>400.00</td>\n",
              "      <td>Large</td>\n",
              "      <td>A little</td>\n",
              "      <td>A little</td>\n",
              "      <td>A lot</td>\n",
              "      <td>Motorola Moto G100</td>\n",
              "      <td>Motorola Edge (2021)</td>\n",
              "      <td>Samsung Galaxy A42</td>\n",
              "    </tr>\n",
              "    <tr>\n",
              "      <th>1</th>\n",
              "      <td>Must be Android</td>\n",
              "      <td>400.00</td>\n",
              "      <td>Large</td>\n",
              "      <td>A ton</td>\n",
              "      <td>A little</td>\n",
              "      <td>I need speed</td>\n",
              "      <td>Google Pixel 6</td>\n",
              "      <td>OnePlus 9</td>\n",
              "      <td>Samsung Galaxy S20 FE</td>\n",
              "    </tr>\n",
              "    <tr>\n",
              "      <th>2</th>\n",
              "      <td>Must be Android</td>\n",
              "      <td>400.00</td>\n",
              "      <td>Medium</td>\n",
              "      <td>Not sure</td>\n",
              "      <td>Not sure</td>\n",
              "      <td>I need speed</td>\n",
              "      <td>OnePlus 8T</td>\n",
              "      <td>Motorola Moto G100</td>\n",
              "      <td>OnePlus 9</td>\n",
              "    </tr>\n",
              "    <tr>\n",
              "      <th>3</th>\n",
              "      <td>Must be Android</td>\n",
              "      <td>400.00</td>\n",
              "      <td>No preference</td>\n",
              "      <td>Somewhat</td>\n",
              "      <td>A little</td>\n",
              "      <td>A little</td>\n",
              "      <td>Google Pixel 5a</td>\n",
              "      <td>Samsung Galaxy A53</td>\n",
              "      <td>Samsung Galaxy A42</td>\n",
              "    </tr>\n",
              "    <tr>\n",
              "      <th>4</th>\n",
              "      <td>Must be Android</td>\n",
              "      <td>400.00</td>\n",
              "      <td>No preference</td>\n",
              "      <td>A ton</td>\n",
              "      <td>A lot</td>\n",
              "      <td>A lot</td>\n",
              "      <td>Motorola Moto G100</td>\n",
              "      <td>Samsung Galaxy A42</td>\n",
              "      <td>Samsung Galaxy A53</td>\n",
              "    </tr>\n",
              "  </tbody>\n",
              "</table>\n",
              "</div>\n",
              "      <button class=\"colab-df-convert\" onclick=\"convertToInteractive('df-3ea40a75-b52e-46cf-81e2-5221834b170f')\"\n",
              "              title=\"Convert this dataframe to an interactive table.\"\n",
              "              style=\"display:none;\">\n",
              "        \n",
              "  <svg xmlns=\"http://www.w3.org/2000/svg\" height=\"24px\"viewBox=\"0 0 24 24\"\n",
              "       width=\"24px\">\n",
              "    <path d=\"M0 0h24v24H0V0z\" fill=\"none\"/>\n",
              "    <path d=\"M18.56 5.44l.94 2.06.94-2.06 2.06-.94-2.06-.94-.94-2.06-.94 2.06-2.06.94zm-11 1L8.5 8.5l.94-2.06 2.06-.94-2.06-.94L8.5 2.5l-.94 2.06-2.06.94zm10 10l.94 2.06.94-2.06 2.06-.94-2.06-.94-.94-2.06-.94 2.06-2.06.94z\"/><path d=\"M17.41 7.96l-1.37-1.37c-.4-.4-.92-.59-1.43-.59-.52 0-1.04.2-1.43.59L10.3 9.45l-7.72 7.72c-.78.78-.78 2.05 0 2.83L4 21.41c.39.39.9.59 1.41.59.51 0 1.02-.2 1.41-.59l7.78-7.78 2.81-2.81c.8-.78.8-2.07 0-2.86zM5.41 20L4 18.59l7.72-7.72 1.47 1.35L5.41 20z\"/>\n",
              "  </svg>\n",
              "      </button>\n",
              "      \n",
              "  <style>\n",
              "    .colab-df-container {\n",
              "      display:flex;\n",
              "      flex-wrap:wrap;\n",
              "      gap: 12px;\n",
              "    }\n",
              "\n",
              "    .colab-df-convert {\n",
              "      background-color: #E8F0FE;\n",
              "      border: none;\n",
              "      border-radius: 50%;\n",
              "      cursor: pointer;\n",
              "      display: none;\n",
              "      fill: #1967D2;\n",
              "      height: 32px;\n",
              "      padding: 0 0 0 0;\n",
              "      width: 32px;\n",
              "    }\n",
              "\n",
              "    .colab-df-convert:hover {\n",
              "      background-color: #E2EBFA;\n",
              "      box-shadow: 0px 1px 2px rgba(60, 64, 67, 0.3), 0px 1px 3px 1px rgba(60, 64, 67, 0.15);\n",
              "      fill: #174EA6;\n",
              "    }\n",
              "\n",
              "    [theme=dark] .colab-df-convert {\n",
              "      background-color: #3B4455;\n",
              "      fill: #D2E3FC;\n",
              "    }\n",
              "\n",
              "    [theme=dark] .colab-df-convert:hover {\n",
              "      background-color: #434B5C;\n",
              "      box-shadow: 0px 1px 3px 1px rgba(0, 0, 0, 0.15);\n",
              "      filter: drop-shadow(0px 1px 2px rgba(0, 0, 0, 0.3));\n",
              "      fill: #FFFFFF;\n",
              "    }\n",
              "  </style>\n",
              "\n",
              "      <script>\n",
              "        const buttonEl =\n",
              "          document.querySelector('#df-3ea40a75-b52e-46cf-81e2-5221834b170f button.colab-df-convert');\n",
              "        buttonEl.style.display =\n",
              "          google.colab.kernel.accessAllowed ? 'block' : 'none';\n",
              "\n",
              "        async function convertToInteractive(key) {\n",
              "          const element = document.querySelector('#df-3ea40a75-b52e-46cf-81e2-5221834b170f');\n",
              "          const dataTable =\n",
              "            await google.colab.kernel.invokeFunction('convertToInteractive',\n",
              "                                                     [key], {});\n",
              "          if (!dataTable) return;\n",
              "\n",
              "          const docLinkHtml = 'Like what you see? Visit the ' +\n",
              "            '<a target=\"_blank\" href=https://colab.research.google.com/notebooks/data_table.ipynb>data table notebook</a>'\n",
              "            + ' to learn more about interactive tables.';\n",
              "          element.innerHTML = '';\n",
              "          dataTable['output_type'] = 'display_data';\n",
              "          await google.colab.output.renderOutput(dataTable, element);\n",
              "          const docLink = document.createElement('div');\n",
              "          docLink.innerHTML = docLinkHtml;\n",
              "          element.appendChild(docLink);\n",
              "        }\n",
              "      </script>\n",
              "    </div>\n",
              "  </div>\n",
              "  "
            ]
          },
          "metadata": {},
          "execution_count": 179
        }
      ]
    },
    {
      "cell_type": "markdown",
      "source": [
        "### Clearning up white spaces and converting all characters to lower case\n",
        "If OS is named *Must be Android* and another is called *Must be Iphone*, the vectorizer will count the word *Must be* in both cases, and the recommender system might consider the phones as highly similar, even though they are not related at all. So we will remove whitespace from the columns"
      ],
      "metadata": {
        "id": "fqyhK-YAFRpn"
      }
    },
    {
      "cell_type": "code",
      "source": [
        "def clean_text(OS):\n",
        "    result = str(OS).lower()\n",
        "    return(result.replace(' ',''))\n",
        "\n",
        "df['OS'] = df['OS'].apply(clean_text)\n",
        "\n",
        "def clean_text(top):\n",
        "    result = str(top).lower()\n",
        "    return(result.replace(' ',''))\n",
        "\n",
        "df['top'] = df['top'].apply(clean_text)\n",
        "\n",
        "def clean_text(second):\n",
        "    result = str(second).lower()\n",
        "    return(result.replace(' ',''))\n",
        "\n",
        "df['second'] = df['second'].apply(clean_text)\n",
        "\n",
        "def clean_text(third):\n",
        "    result = str(third).lower()\n",
        "    return(result.replace(' ',''))\n",
        "\n",
        "df['third'] = df['third'].apply(clean_text)"
      ],
      "metadata": {
        "id": "TMCTA-nK0XJ-"
      },
      "execution_count": null,
      "outputs": []
    },
    {
      "cell_type": "code",
      "source": [
        "df.head()"
      ],
      "metadata": {
        "colab": {
          "base_uri": "https://localhost:8080/",
          "height": 206
        },
        "id": "Wa7uSr1A1J5E",
        "outputId": "73fde6e7-c08a-41a9-d212-7179bc8d143a"
      },
      "execution_count": null,
      "outputs": [
        {
          "output_type": "execute_result",
          "data": {
            "text/plain": [
              "              OS  Budget           Size Camera Importance  \\\n",
              "0  mustbeandroid  400.00          Large          A little   \n",
              "1  mustbeandroid  400.00          Large             A ton   \n",
              "2  mustbeandroid  400.00         Medium          Not sure   \n",
              "3  mustbeandroid  400.00  No preference          Somewhat   \n",
              "4  mustbeandroid  400.00  No preference             A ton   \n",
              "\n",
              "  Usage Hours (Battery) Speed Importance               top  \\\n",
              "0              A little            A lot  motorolamotog100   \n",
              "1              A little     I need speed      googlepixel6   \n",
              "2              Not sure     I need speed         oneplus8t   \n",
              "3              A little         A little     googlepixel5a   \n",
              "4                 A lot            A lot  motorolamotog100   \n",
              "\n",
              "               second               third  \n",
              "0  motorolaedge(2021)    samsunggalaxya42  \n",
              "1            oneplus9  samsunggalaxys20fe  \n",
              "2    motorolamotog100            oneplus9  \n",
              "3    samsunggalaxya53    samsunggalaxya42  \n",
              "4    samsunggalaxya42    samsunggalaxya53  "
            ],
            "text/html": [
              "\n",
              "  <div id=\"df-55b109e0-890a-4798-a419-8d352cf0c7a2\">\n",
              "    <div class=\"colab-df-container\">\n",
              "      <div>\n",
              "<style scoped>\n",
              "    .dataframe tbody tr th:only-of-type {\n",
              "        vertical-align: middle;\n",
              "    }\n",
              "\n",
              "    .dataframe tbody tr th {\n",
              "        vertical-align: top;\n",
              "    }\n",
              "\n",
              "    .dataframe thead th {\n",
              "        text-align: right;\n",
              "    }\n",
              "</style>\n",
              "<table border=\"1\" class=\"dataframe\">\n",
              "  <thead>\n",
              "    <tr style=\"text-align: right;\">\n",
              "      <th></th>\n",
              "      <th>OS</th>\n",
              "      <th>Budget</th>\n",
              "      <th>Size</th>\n",
              "      <th>Camera Importance</th>\n",
              "      <th>Usage Hours (Battery)</th>\n",
              "      <th>Speed Importance</th>\n",
              "      <th>top</th>\n",
              "      <th>second</th>\n",
              "      <th>third</th>\n",
              "    </tr>\n",
              "  </thead>\n",
              "  <tbody>\n",
              "    <tr>\n",
              "      <th>0</th>\n",
              "      <td>mustbeandroid</td>\n",
              "      <td>400.00</td>\n",
              "      <td>Large</td>\n",
              "      <td>A little</td>\n",
              "      <td>A little</td>\n",
              "      <td>A lot</td>\n",
              "      <td>motorolamotog100</td>\n",
              "      <td>motorolaedge(2021)</td>\n",
              "      <td>samsunggalaxya42</td>\n",
              "    </tr>\n",
              "    <tr>\n",
              "      <th>1</th>\n",
              "      <td>mustbeandroid</td>\n",
              "      <td>400.00</td>\n",
              "      <td>Large</td>\n",
              "      <td>A ton</td>\n",
              "      <td>A little</td>\n",
              "      <td>I need speed</td>\n",
              "      <td>googlepixel6</td>\n",
              "      <td>oneplus9</td>\n",
              "      <td>samsunggalaxys20fe</td>\n",
              "    </tr>\n",
              "    <tr>\n",
              "      <th>2</th>\n",
              "      <td>mustbeandroid</td>\n",
              "      <td>400.00</td>\n",
              "      <td>Medium</td>\n",
              "      <td>Not sure</td>\n",
              "      <td>Not sure</td>\n",
              "      <td>I need speed</td>\n",
              "      <td>oneplus8t</td>\n",
              "      <td>motorolamotog100</td>\n",
              "      <td>oneplus9</td>\n",
              "    </tr>\n",
              "    <tr>\n",
              "      <th>3</th>\n",
              "      <td>mustbeandroid</td>\n",
              "      <td>400.00</td>\n",
              "      <td>No preference</td>\n",
              "      <td>Somewhat</td>\n",
              "      <td>A little</td>\n",
              "      <td>A little</td>\n",
              "      <td>googlepixel5a</td>\n",
              "      <td>samsunggalaxya53</td>\n",
              "      <td>samsunggalaxya42</td>\n",
              "    </tr>\n",
              "    <tr>\n",
              "      <th>4</th>\n",
              "      <td>mustbeandroid</td>\n",
              "      <td>400.00</td>\n",
              "      <td>No preference</td>\n",
              "      <td>A ton</td>\n",
              "      <td>A lot</td>\n",
              "      <td>A lot</td>\n",
              "      <td>motorolamotog100</td>\n",
              "      <td>samsunggalaxya42</td>\n",
              "      <td>samsunggalaxya53</td>\n",
              "    </tr>\n",
              "  </tbody>\n",
              "</table>\n",
              "</div>\n",
              "      <button class=\"colab-df-convert\" onclick=\"convertToInteractive('df-55b109e0-890a-4798-a419-8d352cf0c7a2')\"\n",
              "              title=\"Convert this dataframe to an interactive table.\"\n",
              "              style=\"display:none;\">\n",
              "        \n",
              "  <svg xmlns=\"http://www.w3.org/2000/svg\" height=\"24px\"viewBox=\"0 0 24 24\"\n",
              "       width=\"24px\">\n",
              "    <path d=\"M0 0h24v24H0V0z\" fill=\"none\"/>\n",
              "    <path d=\"M18.56 5.44l.94 2.06.94-2.06 2.06-.94-2.06-.94-.94-2.06-.94 2.06-2.06.94zm-11 1L8.5 8.5l.94-2.06 2.06-.94-2.06-.94L8.5 2.5l-.94 2.06-2.06.94zm10 10l.94 2.06.94-2.06 2.06-.94-2.06-.94-.94-2.06-.94 2.06-2.06.94z\"/><path d=\"M17.41 7.96l-1.37-1.37c-.4-.4-.92-.59-1.43-.59-.52 0-1.04.2-1.43.59L10.3 9.45l-7.72 7.72c-.78.78-.78 2.05 0 2.83L4 21.41c.39.39.9.59 1.41.59.51 0 1.02-.2 1.41-.59l7.78-7.78 2.81-2.81c.8-.78.8-2.07 0-2.86zM5.41 20L4 18.59l7.72-7.72 1.47 1.35L5.41 20z\"/>\n",
              "  </svg>\n",
              "      </button>\n",
              "      \n",
              "  <style>\n",
              "    .colab-df-container {\n",
              "      display:flex;\n",
              "      flex-wrap:wrap;\n",
              "      gap: 12px;\n",
              "    }\n",
              "\n",
              "    .colab-df-convert {\n",
              "      background-color: #E8F0FE;\n",
              "      border: none;\n",
              "      border-radius: 50%;\n",
              "      cursor: pointer;\n",
              "      display: none;\n",
              "      fill: #1967D2;\n",
              "      height: 32px;\n",
              "      padding: 0 0 0 0;\n",
              "      width: 32px;\n",
              "    }\n",
              "\n",
              "    .colab-df-convert:hover {\n",
              "      background-color: #E2EBFA;\n",
              "      box-shadow: 0px 1px 2px rgba(60, 64, 67, 0.3), 0px 1px 3px 1px rgba(60, 64, 67, 0.15);\n",
              "      fill: #174EA6;\n",
              "    }\n",
              "\n",
              "    [theme=dark] .colab-df-convert {\n",
              "      background-color: #3B4455;\n",
              "      fill: #D2E3FC;\n",
              "    }\n",
              "\n",
              "    [theme=dark] .colab-df-convert:hover {\n",
              "      background-color: #434B5C;\n",
              "      box-shadow: 0px 1px 3px 1px rgba(0, 0, 0, 0.15);\n",
              "      filter: drop-shadow(0px 1px 2px rgba(0, 0, 0, 0.3));\n",
              "      fill: #FFFFFF;\n",
              "    }\n",
              "  </style>\n",
              "\n",
              "      <script>\n",
              "        const buttonEl =\n",
              "          document.querySelector('#df-55b109e0-890a-4798-a419-8d352cf0c7a2 button.colab-df-convert');\n",
              "        buttonEl.style.display =\n",
              "          google.colab.kernel.accessAllowed ? 'block' : 'none';\n",
              "\n",
              "        async function convertToInteractive(key) {\n",
              "          const element = document.querySelector('#df-55b109e0-890a-4798-a419-8d352cf0c7a2');\n",
              "          const dataTable =\n",
              "            await google.colab.kernel.invokeFunction('convertToInteractive',\n",
              "                                                     [key], {});\n",
              "          if (!dataTable) return;\n",
              "\n",
              "          const docLinkHtml = 'Like what you see? Visit the ' +\n",
              "            '<a target=\"_blank\" href=https://colab.research.google.com/notebooks/data_table.ipynb>data table notebook</a>'\n",
              "            + ' to learn more about interactive tables.';\n",
              "          element.innerHTML = '';\n",
              "          dataTable['output_type'] = 'display_data';\n",
              "          await google.colab.output.renderOutput(dataTable, element);\n",
              "          const docLink = document.createElement('div');\n",
              "          docLink.innerHTML = docLinkHtml;\n",
              "          element.appendChild(docLink);\n",
              "        }\n",
              "      </script>\n",
              "    </div>\n",
              "  </div>\n",
              "  "
            ]
          },
          "metadata": {},
          "execution_count": 181
        }
      ]
    },
    {
      "cell_type": "markdown",
      "source": [
        "### let’s combine these columns to create train and test variable"
      ],
      "metadata": {
        "id": "MIAdGKDBHnuS"
      }
    },
    {
      "cell_type": "code",
      "source": [
        "df[\"train\"] = df['OS'] + df['Budget'] + df['Size'] + df['Camera Importance'] + df['Usage Hours (Battery)'] + df['Speed Importance'] + df['top'] + df['second'] + df['third']"
      ],
      "metadata": {
        "id": "TVbatxN-qn-o"
      },
      "execution_count": null,
      "outputs": []
    },
    {
      "cell_type": "code",
      "source": [
        "df[\"test\"] = df['OS'] + df['Budget'] + df['Size'] + df['Camera Importance'] + df['Usage Hours (Battery)'] + df['Speed Importance']"
      ],
      "metadata": {
        "id": "79F_gD2ZJSzN"
      },
      "execution_count": null,
      "outputs": []
    },
    {
      "cell_type": "code",
      "source": [
        "df.head()"
      ],
      "metadata": {
        "colab": {
          "base_uri": "https://localhost:8080/",
          "height": 354
        },
        "id": "6gEkT3J8q6d7",
        "outputId": "d5e7abac-3ce5-4500-9b17-49adfddf26cc"
      },
      "execution_count": null,
      "outputs": [
        {
          "output_type": "execute_result",
          "data": {
            "text/plain": [
              "              OS  Budget           Size Camera Importance  \\\n",
              "0  mustbeandroid  400.00          Large          A little   \n",
              "1  mustbeandroid  400.00          Large             A ton   \n",
              "2  mustbeandroid  400.00         Medium          Not sure   \n",
              "3  mustbeandroid  400.00  No preference          Somewhat   \n",
              "4  mustbeandroid  400.00  No preference             A ton   \n",
              "\n",
              "  Usage Hours (Battery) Speed Importance               top  \\\n",
              "0              A little            A lot  motorolamotog100   \n",
              "1              A little     I need speed      googlepixel6   \n",
              "2              Not sure     I need speed         oneplus8t   \n",
              "3              A little         A little     googlepixel5a   \n",
              "4                 A lot            A lot  motorolamotog100   \n",
              "\n",
              "               second               third  \\\n",
              "0  motorolaedge(2021)    samsunggalaxya42   \n",
              "1            oneplus9  samsunggalaxys20fe   \n",
              "2    motorolamotog100            oneplus9   \n",
              "3    samsunggalaxya53    samsunggalaxya42   \n",
              "4    samsunggalaxya42    samsunggalaxya53   \n",
              "\n",
              "                                               train  \\\n",
              "0  mustbeandroid400.00LargeA littleA littleA lotm...   \n",
              "1  mustbeandroid400.00LargeA tonA littleI need sp...   \n",
              "2  mustbeandroid400.00MediumNot sureNot sureI nee...   \n",
              "3  mustbeandroid400.00No preferenceSomewhatA litt...   \n",
              "4  mustbeandroid400.00No preferenceA tonA lotA lo...   \n",
              "\n",
              "                                                test  \n",
              "0      mustbeandroid400.00LargeA littleA littleA lot  \n",
              "1  mustbeandroid400.00LargeA tonA littleI need speed  \n",
              "2  mustbeandroid400.00MediumNot sureNot sureI nee...  \n",
              "3  mustbeandroid400.00No preferenceSomewhatA litt...  \n",
              "4    mustbeandroid400.00No preferenceA tonA lotA lot  "
            ],
            "text/html": [
              "\n",
              "  <div id=\"df-a9b69f37-8b12-4b84-85b5-c4f0972583a0\">\n",
              "    <div class=\"colab-df-container\">\n",
              "      <div>\n",
              "<style scoped>\n",
              "    .dataframe tbody tr th:only-of-type {\n",
              "        vertical-align: middle;\n",
              "    }\n",
              "\n",
              "    .dataframe tbody tr th {\n",
              "        vertical-align: top;\n",
              "    }\n",
              "\n",
              "    .dataframe thead th {\n",
              "        text-align: right;\n",
              "    }\n",
              "</style>\n",
              "<table border=\"1\" class=\"dataframe\">\n",
              "  <thead>\n",
              "    <tr style=\"text-align: right;\">\n",
              "      <th></th>\n",
              "      <th>OS</th>\n",
              "      <th>Budget</th>\n",
              "      <th>Size</th>\n",
              "      <th>Camera Importance</th>\n",
              "      <th>Usage Hours (Battery)</th>\n",
              "      <th>Speed Importance</th>\n",
              "      <th>top</th>\n",
              "      <th>second</th>\n",
              "      <th>third</th>\n",
              "      <th>train</th>\n",
              "      <th>test</th>\n",
              "    </tr>\n",
              "  </thead>\n",
              "  <tbody>\n",
              "    <tr>\n",
              "      <th>0</th>\n",
              "      <td>mustbeandroid</td>\n",
              "      <td>400.00</td>\n",
              "      <td>Large</td>\n",
              "      <td>A little</td>\n",
              "      <td>A little</td>\n",
              "      <td>A lot</td>\n",
              "      <td>motorolamotog100</td>\n",
              "      <td>motorolaedge(2021)</td>\n",
              "      <td>samsunggalaxya42</td>\n",
              "      <td>mustbeandroid400.00LargeA littleA littleA lotm...</td>\n",
              "      <td>mustbeandroid400.00LargeA littleA littleA lot</td>\n",
              "    </tr>\n",
              "    <tr>\n",
              "      <th>1</th>\n",
              "      <td>mustbeandroid</td>\n",
              "      <td>400.00</td>\n",
              "      <td>Large</td>\n",
              "      <td>A ton</td>\n",
              "      <td>A little</td>\n",
              "      <td>I need speed</td>\n",
              "      <td>googlepixel6</td>\n",
              "      <td>oneplus9</td>\n",
              "      <td>samsunggalaxys20fe</td>\n",
              "      <td>mustbeandroid400.00LargeA tonA littleI need sp...</td>\n",
              "      <td>mustbeandroid400.00LargeA tonA littleI need speed</td>\n",
              "    </tr>\n",
              "    <tr>\n",
              "      <th>2</th>\n",
              "      <td>mustbeandroid</td>\n",
              "      <td>400.00</td>\n",
              "      <td>Medium</td>\n",
              "      <td>Not sure</td>\n",
              "      <td>Not sure</td>\n",
              "      <td>I need speed</td>\n",
              "      <td>oneplus8t</td>\n",
              "      <td>motorolamotog100</td>\n",
              "      <td>oneplus9</td>\n",
              "      <td>mustbeandroid400.00MediumNot sureNot sureI nee...</td>\n",
              "      <td>mustbeandroid400.00MediumNot sureNot sureI nee...</td>\n",
              "    </tr>\n",
              "    <tr>\n",
              "      <th>3</th>\n",
              "      <td>mustbeandroid</td>\n",
              "      <td>400.00</td>\n",
              "      <td>No preference</td>\n",
              "      <td>Somewhat</td>\n",
              "      <td>A little</td>\n",
              "      <td>A little</td>\n",
              "      <td>googlepixel5a</td>\n",
              "      <td>samsunggalaxya53</td>\n",
              "      <td>samsunggalaxya42</td>\n",
              "      <td>mustbeandroid400.00No preferenceSomewhatA litt...</td>\n",
              "      <td>mustbeandroid400.00No preferenceSomewhatA litt...</td>\n",
              "    </tr>\n",
              "    <tr>\n",
              "      <th>4</th>\n",
              "      <td>mustbeandroid</td>\n",
              "      <td>400.00</td>\n",
              "      <td>No preference</td>\n",
              "      <td>A ton</td>\n",
              "      <td>A lot</td>\n",
              "      <td>A lot</td>\n",
              "      <td>motorolamotog100</td>\n",
              "      <td>samsunggalaxya42</td>\n",
              "      <td>samsunggalaxya53</td>\n",
              "      <td>mustbeandroid400.00No preferenceA tonA lotA lo...</td>\n",
              "      <td>mustbeandroid400.00No preferenceA tonA lotA lot</td>\n",
              "    </tr>\n",
              "  </tbody>\n",
              "</table>\n",
              "</div>\n",
              "      <button class=\"colab-df-convert\" onclick=\"convertToInteractive('df-a9b69f37-8b12-4b84-85b5-c4f0972583a0')\"\n",
              "              title=\"Convert this dataframe to an interactive table.\"\n",
              "              style=\"display:none;\">\n",
              "        \n",
              "  <svg xmlns=\"http://www.w3.org/2000/svg\" height=\"24px\"viewBox=\"0 0 24 24\"\n",
              "       width=\"24px\">\n",
              "    <path d=\"M0 0h24v24H0V0z\" fill=\"none\"/>\n",
              "    <path d=\"M18.56 5.44l.94 2.06.94-2.06 2.06-.94-2.06-.94-.94-2.06-.94 2.06-2.06.94zm-11 1L8.5 8.5l.94-2.06 2.06-.94-2.06-.94L8.5 2.5l-.94 2.06-2.06.94zm10 10l.94 2.06.94-2.06 2.06-.94-2.06-.94-.94-2.06-.94 2.06-2.06.94z\"/><path d=\"M17.41 7.96l-1.37-1.37c-.4-.4-.92-.59-1.43-.59-.52 0-1.04.2-1.43.59L10.3 9.45l-7.72 7.72c-.78.78-.78 2.05 0 2.83L4 21.41c.39.39.9.59 1.41.59.51 0 1.02-.2 1.41-.59l7.78-7.78 2.81-2.81c.8-.78.8-2.07 0-2.86zM5.41 20L4 18.59l7.72-7.72 1.47 1.35L5.41 20z\"/>\n",
              "  </svg>\n",
              "      </button>\n",
              "      \n",
              "  <style>\n",
              "    .colab-df-container {\n",
              "      display:flex;\n",
              "      flex-wrap:wrap;\n",
              "      gap: 12px;\n",
              "    }\n",
              "\n",
              "    .colab-df-convert {\n",
              "      background-color: #E8F0FE;\n",
              "      border: none;\n",
              "      border-radius: 50%;\n",
              "      cursor: pointer;\n",
              "      display: none;\n",
              "      fill: #1967D2;\n",
              "      height: 32px;\n",
              "      padding: 0 0 0 0;\n",
              "      width: 32px;\n",
              "    }\n",
              "\n",
              "    .colab-df-convert:hover {\n",
              "      background-color: #E2EBFA;\n",
              "      box-shadow: 0px 1px 2px rgba(60, 64, 67, 0.3), 0px 1px 3px 1px rgba(60, 64, 67, 0.15);\n",
              "      fill: #174EA6;\n",
              "    }\n",
              "\n",
              "    [theme=dark] .colab-df-convert {\n",
              "      background-color: #3B4455;\n",
              "      fill: #D2E3FC;\n",
              "    }\n",
              "\n",
              "    [theme=dark] .colab-df-convert:hover {\n",
              "      background-color: #434B5C;\n",
              "      box-shadow: 0px 1px 3px 1px rgba(0, 0, 0, 0.15);\n",
              "      filter: drop-shadow(0px 1px 2px rgba(0, 0, 0, 0.3));\n",
              "      fill: #FFFFFF;\n",
              "    }\n",
              "  </style>\n",
              "\n",
              "      <script>\n",
              "        const buttonEl =\n",
              "          document.querySelector('#df-a9b69f37-8b12-4b84-85b5-c4f0972583a0 button.colab-df-convert');\n",
              "        buttonEl.style.display =\n",
              "          google.colab.kernel.accessAllowed ? 'block' : 'none';\n",
              "\n",
              "        async function convertToInteractive(key) {\n",
              "          const element = document.querySelector('#df-a9b69f37-8b12-4b84-85b5-c4f0972583a0');\n",
              "          const dataTable =\n",
              "            await google.colab.kernel.invokeFunction('convertToInteractive',\n",
              "                                                     [key], {});\n",
              "          if (!dataTable) return;\n",
              "\n",
              "          const docLinkHtml = 'Like what you see? Visit the ' +\n",
              "            '<a target=\"_blank\" href=https://colab.research.google.com/notebooks/data_table.ipynb>data table notebook</a>'\n",
              "            + ' to learn more about interactive tables.';\n",
              "          element.innerHTML = '';\n",
              "          dataTable['output_type'] = 'display_data';\n",
              "          await google.colab.output.renderOutput(dataTable, element);\n",
              "          const docLink = document.createElement('div');\n",
              "          docLink.innerHTML = docLinkHtml;\n",
              "          element.appendChild(docLink);\n",
              "        }\n",
              "      </script>\n",
              "    </div>\n",
              "  </div>\n",
              "  "
            ]
          },
          "metadata": {},
          "execution_count": 184
        }
      ]
    },
    {
      "cell_type": "markdown",
      "source": [
        "### Vectorize the Dataframe with TF-IDF"
      ],
      "metadata": {
        "id": "QWzaUvHxJZj4"
      }
    },
    {
      "cell_type": "code",
      "source": [
        "tf = TfidfVectorizer(analyzer='word',ngram_range=(1, 2),min_df=0, stop_words='english')\n",
        "tfidf_matrix = tf.fit_transform(df[\"train\"])"
      ],
      "metadata": {
        "id": "82fOTcS3k04K"
      },
      "execution_count": null,
      "outputs": []
    },
    {
      "cell_type": "code",
      "source": [
        "tfidf_matrix.shape"
      ],
      "metadata": {
        "colab": {
          "base_uri": "https://localhost:8080/"
        },
        "id": "aWS0UiIJq4fy",
        "outputId": "449c417b-a6a9-41aa-bc7e-c7eeeb3aabad"
      },
      "execution_count": null,
      "outputs": [
        {
          "output_type": "execute_result",
          "data": {
            "text/plain": [
              "(177, 640)"
            ]
          },
          "metadata": {},
          "execution_count": 186
        }
      ]
    },
    {
      "cell_type": "markdown",
      "source": [
        "### applying cosine similarity on the vector"
      ],
      "metadata": {
        "id": "8oE_KP3LJh3b"
      }
    },
    {
      "cell_type": "code",
      "source": [
        "cosine_sim = linear_kernel(tfidf_matrix, tfidf_matrix)"
      ],
      "metadata": {
        "id": "yZRwiXz2q5Wc"
      },
      "execution_count": null,
      "outputs": []
    },
    {
      "cell_type": "code",
      "source": [
        "similarities = pd.DataFrame(cosine_sim, columns=df['test'], index=df['test']).reset_index()\n",
        "similarities.head()"
      ],
      "metadata": {
        "colab": {
          "base_uri": "https://localhost:8080/",
          "height": 456
        },
        "id": "glmbtqF1IhmJ",
        "outputId": "d2ba55d4-a429-4925-af37-b7485c3d8037"
      },
      "execution_count": null,
      "outputs": [
        {
          "output_type": "execute_result",
          "data": {
            "text/plain": [
              "test                                               test  \\\n",
              "0         mustbeandroid400.00LargeA littleA littleA lot   \n",
              "1     mustbeandroid400.00LargeA tonA littleI need speed   \n",
              "2     mustbeandroid400.00MediumNot sureNot sureI nee...   \n",
              "3     mustbeandroid400.00No preferenceSomewhatA litt...   \n",
              "4       mustbeandroid400.00No preferenceA tonA lotA lot   \n",
              "\n",
              "test  mustbeandroid400.00LargeA littleA littleA lot  \\\n",
              "0                                          1.000000   \n",
              "1                                          0.226972   \n",
              "2                                          0.065592   \n",
              "3                                          0.129148   \n",
              "4                                          0.070813   \n",
              "\n",
              "test  mustbeandroid400.00LargeA tonA littleI need speed  \\\n",
              "0                                              0.226972   \n",
              "1                                              1.000000   \n",
              "2                                              0.111733   \n",
              "3                                              0.083619   \n",
              "4                                              0.119917   \n",
              "\n",
              "test  mustbeandroid400.00MediumNot sureNot sureI need speed  \\\n",
              "0                                              0.065592       \n",
              "1                                              0.111733       \n",
              "2                                              1.000000       \n",
              "3                                              0.086396       \n",
              "4                                              0.088536       \n",
              "\n",
              "test  mustbeandroid400.00No preferenceSomewhatA littleA little  \\\n",
              "0                                              0.129148          \n",
              "1                                              0.083619          \n",
              "2                                              0.086396          \n",
              "3                                              1.000000          \n",
              "4                                              0.266401          \n",
              "\n",
              "test  mustbeandroid400.00No preferenceA tonA lotA lot  \\\n",
              "0                                            0.070813   \n",
              "1                                            0.119917   \n",
              "2                                            0.088536   \n",
              "3                                            0.266401   \n",
              "4                                            1.000000   \n",
              "\n",
              "test  mustbeandroid400.00No preferenceNot sureA lotA lot  \\\n",
              "0                                              0.139533    \n",
              "1                                              0.072880    \n",
              "2                                              0.075301    \n",
              "3                                              0.226576    \n",
              "4                                              0.265331    \n",
              "\n",
              "test  mustbeandroid400.00SmallA tonA tonNot sure  \\\n",
              "0                                       0.069863   \n",
              "1                                       0.118308   \n",
              "2                                       0.087348   \n",
              "3                                       0.092021   \n",
              "4                                       0.131966   \n",
              "\n",
              "test  mustbeandroid400.00SmallSomewhatNot sureI need speed  \\\n",
              "0                                              0.067549      \n",
              "1                                              0.115067      \n",
              "2                                              0.513079      \n",
              "3                                              0.088974      \n",
              "4                                              0.091178      \n",
              "\n",
              "test  mustbeandroid600.00LargeA littleA littleNot sure  ...  \\\n",
              "0                                             0.226691  ...   \n",
              "1                                             0.075489  ...   \n",
              "2                                             0.000000  ...   \n",
              "3                                             0.037667  ...   \n",
              "4                                             0.000000  ...   \n",
              "\n",
              "test  preferiphoneNot sureSmallNot sureA littleI need speed  \\\n",
              "0                                              0.000000       \n",
              "1                                              0.152699       \n",
              "2                                              0.027926       \n",
              "3                                              0.000000       \n",
              "4                                              0.000000       \n",
              "\n",
              "test  preferiphoneNot sureMediumA lotNot sureI need speed  \\\n",
              "0                                              0.000000     \n",
              "1                                              0.031741     \n",
              "2                                              0.146415     \n",
              "3                                              0.000000     \n",
              "4                                              0.000000     \n",
              "\n",
              "test  preferiphoneNot sureNo preferenceA littleA tonA lot  \\\n",
              "0                                              0.063986     \n",
              "1                                              0.035590     \n",
              "2                                              0.000000     \n",
              "3                                              0.042140     \n",
              "4                                              0.077096     \n",
              "\n",
              "test  preferiphoneNot sureNo preferenceA lotA littleA lot  \\\n",
              "0                                              0.062774     \n",
              "1                                              0.000000     \n",
              "2                                              0.000000     \n",
              "3                                              0.041342     \n",
              "4                                              0.076443     \n",
              "\n",
              "test  preferiphoneNot sureNo preferenceA littleA lotI need speed  \\\n",
              "0                                              0.055823            \n",
              "1                                              0.031693            \n",
              "2                                              0.032746            \n",
              "3                                              0.036764            \n",
              "4                                              0.032626            \n",
              "\n",
              "test  preferiphoneNot sureNo preferenceA littleNot sureA lot  \\\n",
              "0                                              0.000000        \n",
              "1                                              0.000000        \n",
              "2                                              0.000000        \n",
              "3                                              0.000000        \n",
              "4                                              0.039309        \n",
              "\n",
              "test  preferiphoneNot sureNo preferenceNot sureNot sureA little  \\\n",
              "0                                              0.000000           \n",
              "1                                              0.000000           \n",
              "2                                              0.036992           \n",
              "3                                              0.000000           \n",
              "4                                              0.000000           \n",
              "\n",
              "test  preferiphoneNot sureSmallA littleNot sureNot sure  \\\n",
              "0                                              0.000000   \n",
              "1                                              0.000000   \n",
              "2                                              0.036528   \n",
              "3                                              0.000000   \n",
              "4                                              0.000000   \n",
              "\n",
              "test  preferiphoneNot sureSmallA lotA lotA little  \\\n",
              "0                                        0.000000   \n",
              "1                                        0.000000   \n",
              "2                                        0.000000   \n",
              "3                                        0.000000   \n",
              "4                                        0.068957   \n",
              "\n",
              "test  preferiphoneNot sureSmallNot sureNot sureNot sure  \n",
              "0                                               0.00000  \n",
              "1                                               0.00000  \n",
              "2                                               0.08122  \n",
              "3                                               0.00000  \n",
              "4                                               0.00000  \n",
              "\n",
              "[5 rows x 178 columns]"
            ],
            "text/html": [
              "\n",
              "  <div id=\"df-d60e4595-c7fa-4755-a380-1bbcfabf8bb2\">\n",
              "    <div class=\"colab-df-container\">\n",
              "      <div>\n",
              "<style scoped>\n",
              "    .dataframe tbody tr th:only-of-type {\n",
              "        vertical-align: middle;\n",
              "    }\n",
              "\n",
              "    .dataframe tbody tr th {\n",
              "        vertical-align: top;\n",
              "    }\n",
              "\n",
              "    .dataframe thead th {\n",
              "        text-align: right;\n",
              "    }\n",
              "</style>\n",
              "<table border=\"1\" class=\"dataframe\">\n",
              "  <thead>\n",
              "    <tr style=\"text-align: right;\">\n",
              "      <th>test</th>\n",
              "      <th>test</th>\n",
              "      <th>mustbeandroid400.00LargeA littleA littleA lot</th>\n",
              "      <th>mustbeandroid400.00LargeA tonA littleI need speed</th>\n",
              "      <th>mustbeandroid400.00MediumNot sureNot sureI need speed</th>\n",
              "      <th>mustbeandroid400.00No preferenceSomewhatA littleA little</th>\n",
              "      <th>mustbeandroid400.00No preferenceA tonA lotA lot</th>\n",
              "      <th>mustbeandroid400.00No preferenceNot sureA lotA lot</th>\n",
              "      <th>mustbeandroid400.00SmallA tonA tonNot sure</th>\n",
              "      <th>mustbeandroid400.00SmallSomewhatNot sureI need speed</th>\n",
              "      <th>mustbeandroid600.00LargeA littleA littleNot sure</th>\n",
              "      <th>...</th>\n",
              "      <th>preferiphoneNot sureSmallNot sureA littleI need speed</th>\n",
              "      <th>preferiphoneNot sureMediumA lotNot sureI need speed</th>\n",
              "      <th>preferiphoneNot sureNo preferenceA littleA tonA lot</th>\n",
              "      <th>preferiphoneNot sureNo preferenceA lotA littleA lot</th>\n",
              "      <th>preferiphoneNot sureNo preferenceA littleA lotI need speed</th>\n",
              "      <th>preferiphoneNot sureNo preferenceA littleNot sureA lot</th>\n",
              "      <th>preferiphoneNot sureNo preferenceNot sureNot sureA little</th>\n",
              "      <th>preferiphoneNot sureSmallA littleNot sureNot sure</th>\n",
              "      <th>preferiphoneNot sureSmallA lotA lotA little</th>\n",
              "      <th>preferiphoneNot sureSmallNot sureNot sureNot sure</th>\n",
              "    </tr>\n",
              "  </thead>\n",
              "  <tbody>\n",
              "    <tr>\n",
              "      <th>0</th>\n",
              "      <td>mustbeandroid400.00LargeA littleA littleA lot</td>\n",
              "      <td>1.000000</td>\n",
              "      <td>0.226972</td>\n",
              "      <td>0.065592</td>\n",
              "      <td>0.129148</td>\n",
              "      <td>0.070813</td>\n",
              "      <td>0.139533</td>\n",
              "      <td>0.069863</td>\n",
              "      <td>0.067549</td>\n",
              "      <td>0.226691</td>\n",
              "      <td>...</td>\n",
              "      <td>0.000000</td>\n",
              "      <td>0.000000</td>\n",
              "      <td>0.063986</td>\n",
              "      <td>0.062774</td>\n",
              "      <td>0.055823</td>\n",
              "      <td>0.000000</td>\n",
              "      <td>0.000000</td>\n",
              "      <td>0.000000</td>\n",
              "      <td>0.000000</td>\n",
              "      <td>0.00000</td>\n",
              "    </tr>\n",
              "    <tr>\n",
              "      <th>1</th>\n",
              "      <td>mustbeandroid400.00LargeA tonA littleI need speed</td>\n",
              "      <td>0.226972</td>\n",
              "      <td>1.000000</td>\n",
              "      <td>0.111733</td>\n",
              "      <td>0.083619</td>\n",
              "      <td>0.119917</td>\n",
              "      <td>0.072880</td>\n",
              "      <td>0.118308</td>\n",
              "      <td>0.115067</td>\n",
              "      <td>0.075489</td>\n",
              "      <td>...</td>\n",
              "      <td>0.152699</td>\n",
              "      <td>0.031741</td>\n",
              "      <td>0.035590</td>\n",
              "      <td>0.000000</td>\n",
              "      <td>0.031693</td>\n",
              "      <td>0.000000</td>\n",
              "      <td>0.000000</td>\n",
              "      <td>0.000000</td>\n",
              "      <td>0.000000</td>\n",
              "      <td>0.00000</td>\n",
              "    </tr>\n",
              "    <tr>\n",
              "      <th>2</th>\n",
              "      <td>mustbeandroid400.00MediumNot sureNot sureI nee...</td>\n",
              "      <td>0.065592</td>\n",
              "      <td>0.111733</td>\n",
              "      <td>1.000000</td>\n",
              "      <td>0.086396</td>\n",
              "      <td>0.088536</td>\n",
              "      <td>0.075301</td>\n",
              "      <td>0.087348</td>\n",
              "      <td>0.513079</td>\n",
              "      <td>0.000000</td>\n",
              "      <td>...</td>\n",
              "      <td>0.027926</td>\n",
              "      <td>0.146415</td>\n",
              "      <td>0.000000</td>\n",
              "      <td>0.000000</td>\n",
              "      <td>0.032746</td>\n",
              "      <td>0.000000</td>\n",
              "      <td>0.036992</td>\n",
              "      <td>0.036528</td>\n",
              "      <td>0.000000</td>\n",
              "      <td>0.08122</td>\n",
              "    </tr>\n",
              "    <tr>\n",
              "      <th>3</th>\n",
              "      <td>mustbeandroid400.00No preferenceSomewhatA litt...</td>\n",
              "      <td>0.129148</td>\n",
              "      <td>0.083619</td>\n",
              "      <td>0.086396</td>\n",
              "      <td>1.000000</td>\n",
              "      <td>0.266401</td>\n",
              "      <td>0.226576</td>\n",
              "      <td>0.092021</td>\n",
              "      <td>0.088974</td>\n",
              "      <td>0.037667</td>\n",
              "      <td>...</td>\n",
              "      <td>0.000000</td>\n",
              "      <td>0.000000</td>\n",
              "      <td>0.042140</td>\n",
              "      <td>0.041342</td>\n",
              "      <td>0.036764</td>\n",
              "      <td>0.000000</td>\n",
              "      <td>0.000000</td>\n",
              "      <td>0.000000</td>\n",
              "      <td>0.000000</td>\n",
              "      <td>0.00000</td>\n",
              "    </tr>\n",
              "    <tr>\n",
              "      <th>4</th>\n",
              "      <td>mustbeandroid400.00No preferenceA tonA lotA lot</td>\n",
              "      <td>0.070813</td>\n",
              "      <td>0.119917</td>\n",
              "      <td>0.088536</td>\n",
              "      <td>0.266401</td>\n",
              "      <td>1.000000</td>\n",
              "      <td>0.265331</td>\n",
              "      <td>0.131966</td>\n",
              "      <td>0.091178</td>\n",
              "      <td>0.000000</td>\n",
              "      <td>...</td>\n",
              "      <td>0.000000</td>\n",
              "      <td>0.000000</td>\n",
              "      <td>0.077096</td>\n",
              "      <td>0.076443</td>\n",
              "      <td>0.032626</td>\n",
              "      <td>0.039309</td>\n",
              "      <td>0.000000</td>\n",
              "      <td>0.000000</td>\n",
              "      <td>0.068957</td>\n",
              "      <td>0.00000</td>\n",
              "    </tr>\n",
              "  </tbody>\n",
              "</table>\n",
              "<p>5 rows × 178 columns</p>\n",
              "</div>\n",
              "      <button class=\"colab-df-convert\" onclick=\"convertToInteractive('df-d60e4595-c7fa-4755-a380-1bbcfabf8bb2')\"\n",
              "              title=\"Convert this dataframe to an interactive table.\"\n",
              "              style=\"display:none;\">\n",
              "        \n",
              "  <svg xmlns=\"http://www.w3.org/2000/svg\" height=\"24px\"viewBox=\"0 0 24 24\"\n",
              "       width=\"24px\">\n",
              "    <path d=\"M0 0h24v24H0V0z\" fill=\"none\"/>\n",
              "    <path d=\"M18.56 5.44l.94 2.06.94-2.06 2.06-.94-2.06-.94-.94-2.06-.94 2.06-2.06.94zm-11 1L8.5 8.5l.94-2.06 2.06-.94-2.06-.94L8.5 2.5l-.94 2.06-2.06.94zm10 10l.94 2.06.94-2.06 2.06-.94-2.06-.94-.94-2.06-.94 2.06-2.06.94z\"/><path d=\"M17.41 7.96l-1.37-1.37c-.4-.4-.92-.59-1.43-.59-.52 0-1.04.2-1.43.59L10.3 9.45l-7.72 7.72c-.78.78-.78 2.05 0 2.83L4 21.41c.39.39.9.59 1.41.59.51 0 1.02-.2 1.41-.59l7.78-7.78 2.81-2.81c.8-.78.8-2.07 0-2.86zM5.41 20L4 18.59l7.72-7.72 1.47 1.35L5.41 20z\"/>\n",
              "  </svg>\n",
              "      </button>\n",
              "      \n",
              "  <style>\n",
              "    .colab-df-container {\n",
              "      display:flex;\n",
              "      flex-wrap:wrap;\n",
              "      gap: 12px;\n",
              "    }\n",
              "\n",
              "    .colab-df-convert {\n",
              "      background-color: #E8F0FE;\n",
              "      border: none;\n",
              "      border-radius: 50%;\n",
              "      cursor: pointer;\n",
              "      display: none;\n",
              "      fill: #1967D2;\n",
              "      height: 32px;\n",
              "      padding: 0 0 0 0;\n",
              "      width: 32px;\n",
              "    }\n",
              "\n",
              "    .colab-df-convert:hover {\n",
              "      background-color: #E2EBFA;\n",
              "      box-shadow: 0px 1px 2px rgba(60, 64, 67, 0.3), 0px 1px 3px 1px rgba(60, 64, 67, 0.15);\n",
              "      fill: #174EA6;\n",
              "    }\n",
              "\n",
              "    [theme=dark] .colab-df-convert {\n",
              "      background-color: #3B4455;\n",
              "      fill: #D2E3FC;\n",
              "    }\n",
              "\n",
              "    [theme=dark] .colab-df-convert:hover {\n",
              "      background-color: #434B5C;\n",
              "      box-shadow: 0px 1px 3px 1px rgba(0, 0, 0, 0.15);\n",
              "      filter: drop-shadow(0px 1px 2px rgba(0, 0, 0, 0.3));\n",
              "      fill: #FFFFFF;\n",
              "    }\n",
              "  </style>\n",
              "\n",
              "      <script>\n",
              "        const buttonEl =\n",
              "          document.querySelector('#df-d60e4595-c7fa-4755-a380-1bbcfabf8bb2 button.colab-df-convert');\n",
              "        buttonEl.style.display =\n",
              "          google.colab.kernel.accessAllowed ? 'block' : 'none';\n",
              "\n",
              "        async function convertToInteractive(key) {\n",
              "          const element = document.querySelector('#df-d60e4595-c7fa-4755-a380-1bbcfabf8bb2');\n",
              "          const dataTable =\n",
              "            await google.colab.kernel.invokeFunction('convertToInteractive',\n",
              "                                                     [key], {});\n",
              "          if (!dataTable) return;\n",
              "\n",
              "          const docLinkHtml = 'Like what you see? Visit the ' +\n",
              "            '<a target=\"_blank\" href=https://colab.research.google.com/notebooks/data_table.ipynb>data table notebook</a>'\n",
              "            + ' to learn more about interactive tables.';\n",
              "          element.innerHTML = '';\n",
              "          dataTable['output_type'] = 'display_data';\n",
              "          await google.colab.output.renderOutput(dataTable, element);\n",
              "          const docLink = document.createElement('div');\n",
              "          docLink.innerHTML = docLinkHtml;\n",
              "          element.appendChild(docLink);\n",
              "        }\n",
              "      </script>\n",
              "    </div>\n",
              "  </div>\n",
              "  "
            ]
          },
          "metadata": {},
          "execution_count": 188
        }
      ]
    },
    {
      "cell_type": "markdown",
      "source": [
        "## Displaying User Recommendations"
      ],
      "metadata": {
        "id": "3A_9N2hkJ-UT"
      }
    },
    {
      "cell_type": "code",
      "source": [
        "df =  df.reset_index()\n",
        "titles = df['test']\n",
        "indices = pd.Series(df.index, index=df['test'])"
      ],
      "metadata": {
        "id": "_-QZKXeJrAsh"
      },
      "execution_count": null,
      "outputs": []
    },
    {
      "cell_type": "code",
      "source": [
        "def get_recommendations(user_input):\n",
        "    user_input[0] = user_input[0].replace(\" \", \"\").lower()\n",
        "\n",
        "    title = \"\"\n",
        "    for ele in user_input:\n",
        "        title += ele\n",
        "\n",
        "\n",
        "    idx = indices[title]\n",
        "    sim_scores = list(enumerate(cosine_sim[idx]))\n",
        "    sim_scores = sorted(sim_scores, key=lambda x: x[1], reverse=True)\n",
        "    rank_indices = [i[0] for i in sim_scores]\n",
        "    return rank_indices[:3]\n"
      ],
      "metadata": {
        "id": "n5hgwDfHrdHB"
      },
      "execution_count": null,
      "outputs": []
    },
    {
      "cell_type": "markdown",
      "source": [
        "### Give user input"
      ],
      "metadata": {
        "id": "EtUMRmTDR87n"
      }
    },
    {
      "cell_type": "code",
      "source": [
        "user_input = ['Must be android', '400.00', 'Large', 'A ton', 'A little', 'I need speed']"
      ],
      "metadata": {
        "id": "G-BB9NUmR8Yh"
      },
      "execution_count": null,
      "outputs": []
    },
    {
      "cell_type": "markdown",
      "source": [
        "### predict_top_3_ranking function"
      ],
      "metadata": {
        "id": "dozNxlfTUA-M"
      }
    },
    {
      "cell_type": "code",
      "source": [
        "def predict_top_3_ranking(user_input):\n",
        "  df1 = get_recommendations(user_input)\n",
        "  print(\"best recommendation: \\t  \\t\", df.loc[df1[0]]['top'], \"\\t\", df.loc[df1[0]]['second'],\"\\t\", df.loc[df1[0]]['third'])\n",
        "  print(\"second best recommendation:  \\t\", df.loc[df1[1]]['top'],\"\\t\", df.loc[df1[2]]['second'],\"\\t\", df.loc[df1[1]]['third'])\n",
        "  print(\"Third best recommendation:  \\t\", df.loc[df1[1]]['top'], \"\\t\",df.loc[df1[2]]['second'], \"\\t\",df.loc[df1[1]]['third'])\n",
        "\n",
        "predict_top_3_ranking(user_input)"
      ],
      "metadata": {
        "colab": {
          "base_uri": "https://localhost:8080/"
        },
        "id": "x4fmOdIbKfEB",
        "outputId": "835a5f30-2f16-4825-d74c-368a9f3fbbec"
      },
      "execution_count": null,
      "outputs": [
        {
          "output_type": "stream",
          "name": "stdout",
          "text": [
            "best recommendation: \t  \t googlepixel6 \t oneplus9 \t samsunggalaxys20fe\n",
            "second best recommendation:  \t googlepixel6 \t motorolaedge(2021) \t appleiphone12mini\n",
            "Third best recommendation:  \t googlepixel6 \t motorolaedge(2021) \t appleiphone12mini\n"
          ]
        }
      ]
    },
    {
      "cell_type": "markdown",
      "source": [
        "## Drawbacks: \n",
        "the main drawback of content-based filtering was that similar items would be grouped together, and users will not be recommended products with content that is not in the training set. As it will generate a keyword error\n"
      ],
      "metadata": {
        "id": "qF87p82oMcmx"
      }
    }
  ]
}